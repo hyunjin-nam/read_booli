{
 "cells": [
  {
   "cell_type": "code",
   "execution_count": 1,
   "id": "b6850bae-3569-42ca-8fb4-ec9013aa0036",
   "metadata": {
    "scrolled": true
   },
   "outputs": [],
   "source": [
    "import read_booli\n",
    "import pandas as pd\n",
    "#Lägenhet, 2, 3 eller 4 rum, Från 50m², Sålt efter 2021-05-29\n",
    "# page_url = 'https://www.booli.se/sok/slutpriser?areaIds=874692&minSoldDate=2022-12-01&objectType=L%C3%A4genhet&rooms=3'\n",
    "# solna_rum3 = read_booli.multi_page_overview(page_url)\n",
    "# solna_rum3.to_csv('solna_stockholm_rum234_from50sq_after2021_05_29.csv', index=False)"
   ]
  },
  {
   "cell_type": "code",
   "execution_count": 2,
   "id": "a4542b49-2bb8-4a66-82c8-fde403b80a5b",
   "metadata": {
    "scrolled": true
   },
   "outputs": [],
   "source": [
    "import read_booli\n",
    "import pandas as pd\n",
    "#Lägenhet, 2, 3 eller 4 rum, Från 50m², Sålt efter 2021-05-29\n",
    "page_url = 'https://www.booli.se/sok/slutpriser?areaIds=35,143&minLivingArea=50&minSoldDate=2023-01-29&objectType=L%C3%A4genhet&rooms=3ö'\n"
   ]
  },
  {
   "cell_type": "code",
   "execution_count": null,
   "id": "b6225d82-c695-4059-9602-a82102e47a06",
   "metadata": {
    "scrolled": true
   },
   "outputs": [
    {
     "name": "stdout",
     "output_type": "stream",
     "text": [
      "Processed page 2 out of 248 ( 0.81 %) - Time: 32.93 seconds per page\n",
      "Processed page 3 out of 248 ( 1.21 %) - Time: 36.41 seconds per page\n",
      "Processed page 4 out of 248 ( 1.61 %) - Time: 35.88 seconds per page\n",
      "Processed page 5 out of 248 ( 2.02 %) - Time: 35.27 seconds per page\n",
      "Processed page 6 out of 248 ( 2.42 %) - Time: 34.25 seconds per page\n",
      "Processed page 7 out of 248 ( 2.82 %) - Time: 34.08 seconds per page\n",
      "Processed page 8 out of 248 ( 3.23 %) - Time: 37.54 seconds per page\n",
      "Processed page 9 out of 248 ( 3.63 %) - Time: 37.86 seconds per page\n",
      "Processed page 10 out of 248 ( 4.03 %) - Time: 33.09 seconds per page\n",
      "Processed page 11 out of 248 ( 4.44 %) - Time: 33.48 seconds per page\n",
      "Processed page 12 out of 248 ( 4.84 %) - Time: 39.17 seconds per page\n",
      "Processed page 13 out of 248 ( 5.24 %) - Time: 37.99 seconds per page\n",
      "Processed page 14 out of 248 ( 5.65 %) - Time: 34.66 seconds per page\n",
      "Processed page 15 out of 248 ( 6.05 %) - Time: 38.78 seconds per page\n",
      "Processed page 16 out of 248 ( 6.45 %) - Time: 39.73 seconds per page\n",
      "Processed page 17 out of 248 ( 6.85 %) - Time: 34.61 seconds per page\n",
      "Processed page 18 out of 248 ( 7.26 %) - Time: 33.06 seconds per page\n",
      "Processed page 19 out of 248 ( 7.66 %) - Time: 32.24 seconds per page\n",
      "Processed page 20 out of 248 ( 8.06 %) - Time: 32.99 seconds per page\n",
      "Processed page 21 out of 248 ( 8.47 %) - Time: 32.0 seconds per page\n",
      "Processed page 22 out of 248 ( 8.87 %) - Time: 41.12 seconds per page\n",
      "Processed page 23 out of 248 ( 9.27 %) - Time: 33.95 seconds per page\n",
      "Processed page 24 out of 248 ( 9.68 %) - Time: 41.63 seconds per page\n",
      "Processed page 25 out of 248 ( 10.08 %) - Time: 37.39 seconds per page\n",
      "Processed page 26 out of 248 ( 10.48 %) - Time: 37.64 seconds per page\n",
      "Processed page 27 out of 248 ( 10.89 %) - Time: 36.37 seconds per page\n",
      "Processed page 28 out of 248 ( 11.29 %) - Time: 37.33 seconds per page\n",
      "Processed page 29 out of 248 ( 11.69 %) - Time: 38.18 seconds per page\n",
      "Processed page 30 out of 248 ( 12.1 %) - Time: 31.68 seconds per page\n",
      "Processed page 31 out of 248 ( 12.5 %) - Time: 37.2 seconds per page\n",
      "Processed page 32 out of 248 ( 12.9 %) - Time: 37.07 seconds per page\n",
      "Processed page 33 out of 248 ( 13.31 %) - Time: 37.84 seconds per page\n",
      "Processed page 34 out of 248 ( 13.71 %) - Time: 38.09 seconds per page\n",
      "Processed page 35 out of 248 ( 14.11 %) - Time: 34.58 seconds per page\n",
      "Processed page 36 out of 248 ( 14.52 %) - Time: 32.99 seconds per page\n",
      "Processed page 37 out of 248 ( 14.92 %) - Time: 34.88 seconds per page\n",
      "Processed page 38 out of 248 ( 15.32 %) - Time: 26.89 seconds per page\n",
      "Processed page 39 out of 248 ( 15.73 %) - Time: 29.92 seconds per page\n",
      "Processed page 40 out of 248 ( 16.13 %) - Time: 28.45 seconds per page\n",
      "Processed page 41 out of 248 ( 16.53 %) - Time: 25.86 seconds per page\n",
      "Processed page 42 out of 248 ( 16.94 %) - Time: 24.22 seconds per page\n",
      "Processed page 43 out of 248 ( 17.34 %) - Time: 55.76 seconds per page\n",
      "Processed page 44 out of 248 ( 17.74 %) - Time: 28.54 seconds per page\n",
      "Processed page 45 out of 248 ( 18.15 %) - Time: 24.26 seconds per page\n",
      "Processed page 46 out of 248 ( 18.55 %) - Time: 29.9 seconds per page\n",
      "Processed page 47 out of 248 ( 18.95 %) - Time: 31.64 seconds per page\n",
      "Processed page 48 out of 248 ( 19.35 %) - Time: 26.91 seconds per page\n",
      "Processed page 49 out of 248 ( 19.76 %) - Time: 34.89 seconds per page\n"
     ]
    }
   ],
   "source": [
    "solna_innercity_3room = read_booli.multi_page_overview(page_url)\n",
    "solna_innercity_3room.to_csv('solna_innercity_3room.csv', index=False)"
   ]
  }
 ],
 "metadata": {
  "kernelspec": {
   "display_name": "Python 3 (ipykernel)",
   "language": "python",
   "name": "python3"
  },
  "language_info": {
   "codemirror_mode": {
    "name": "ipython",
    "version": 3
   },
   "file_extension": ".py",
   "mimetype": "text/x-python",
   "name": "python",
   "nbconvert_exporter": "python",
   "pygments_lexer": "ipython3",
   "version": "3.11.5"
  }
 },
 "nbformat": 4,
 "nbformat_minor": 5
}
